{
 "cells": [
  {
   "cell_type": "markdown",
   "metadata": {
    "id": "9w67mZW1i333",
    "tags": []
   },
   "source": [
    "## imports"
   ]
  },
  {
   "cell_type": "code",
   "execution_count": 1,
   "metadata": {
    "id": "Ohy-uGrhk_6j"
   },
   "outputs": [],
   "source": [
    "import pickle\n",
    "import numpy as np\n",
    "from sklearn.cluster import KMeans\n",
    "from sklearn.preprocessing import MinMaxScaler\n",
    "from sklearn.cluster import KMeans\n",
    "import cv2\n",
    "import numpy as np\n",
    "import colorsys"
   ]
  },
  {
   "cell_type": "markdown",
   "metadata": {},
   "source": [
    "# Part 1"
   ]
  },
  {
   "cell_type": "markdown",
   "metadata": {
    "id": "ES23zLXhi34A",
    "jp-MarkdownHeadingCollapsed": true
   },
   "source": [
    "## load dataset"
   ]
  },
  {
   "cell_type": "code",
   "execution_count": 2,
   "metadata": {
    "id": "5C72evWemRM_"
   },
   "outputs": [],
   "source": [
    "def load_dataset():\n",
    "  image_pickle_file_path = 'images.pkl'\n",
    "  label_pickle_file_path = 'label.pkl'\n",
    "\n",
    "  with open(image_pickle_file_path, 'rb') as file:\n",
    "    images = pickle.load(file)\n",
    "\n",
    "  with open(label_pickle_file_path, 'rb') as file:\n",
    "    labels = pickle.load(file)\n",
    "\n",
    "  # images = images.reshape(images.shape[0], -1)\n",
    "\n",
    "  return images, labels"
   ]
  },
  {
   "cell_type": "code",
   "execution_count": 3,
   "metadata": {
    "id": "PegQSxmRnEAU"
   },
   "outputs": [],
   "source": [
    "images, labels = load_dataset()\n",
    "random_indices = np.random.choice(560, size=10, replace=False)\n",
    "# Extract the randomly selected values\n",
    "random_values = images[random_indices]\n",
    "\n",
    "from dataclasses import dataclass, field\n",
    "\n",
    "\n",
    "@dataclass\n",
    "class Images:\n",
    "    image: np.ndarray = None\n",
    "    original_features = []\n",
    "    features = []\n",
    "    clusters = None\n",
    "\n",
    "\n"
   ]
  },
  {
   "cell_type": "markdown",
   "metadata": {
    "id": "p4EkzGxIi34C"
   },
   "source": [
    "## Proccess on images\n",
    "- Extract features\n",
    "- normalize features\n",
    "- make features a single dimnetion vector"
   ]
  },
  {
   "cell_type": "code",
   "execution_count": 4,
   "metadata": {
    "id": "niz6RZqTi34D"
   },
   "outputs": [],
   "source": [
    "def extract_features(image):\n",
    "    features = []\n",
    "    original_features = []\n",
    "\n",
    "    img_hsv = cv2.cvtColor(image, cv2.COLOR_BGR2HSV)\n",
    "\n",
    "    # For each pixel in the image\n",
    "    for i in range(img_hsv.shape[0]):\n",
    "        for j in range(img_hsv.shape[1]):\n",
    "            pixel = img_hsv[i, j]\n",
    "            h, s, v = pixel\n",
    "            x, y = i, j\n",
    "            \n",
    "            features.append((h, s, v, x, y))\n",
    "\n",
    "    return features"
   ]
  },
  {
   "cell_type": "code",
   "execution_count": 5,
   "metadata": {
    "id": "thgfwhB_i34F"
   },
   "outputs": [],
   "source": [
    "def normalize_features(features):\n",
    "    features_array = np.array(features)\n",
    "    scaler = MinMaxScaler()\n",
    "    normalized_features_array = scaler.fit_transform(features_array)\n",
    "    normalized_features = normalized_features_array.tolist()\n",
    "    return normalized_features"
   ]
  },
  {
   "cell_type": "code",
   "execution_count": 6,
   "metadata": {
    "colab": {
     "base_uri": "https://localhost:8080/"
    },
    "id": "4zo_qGUNi34H",
    "outputId": "44412444-40e7-41ab-e547-d11217b7b25f"
   },
   "outputs": [],
   "source": [
    "new_features = []\n",
    "\n",
    "for img in random_values:\n",
    "    features = extract_features(img)\n",
    "    new_features.append(features)"
   ]
  },
  {
   "cell_type": "code",
   "execution_count": 7,
   "metadata": {
    "id": "D_vQuK0ii34J"
   },
   "outputs": [],
   "source": [
    "# normalize features\n",
    "for i, fimg in enumerate(new_features):\n",
    "    new_features[i] = normalize_features(fimg)"
   ]
  },
  {
   "cell_type": "code",
   "execution_count": 8,
   "metadata": {},
   "outputs": [],
   "source": [
    "def set_priority(arr, color, pos):\n",
    "    color_columns = np.tile(arr[:, :3], (1, color))\n",
    "    pos_columns = np.tile(arr[:, 3:], (1, pos))\n",
    "    duplicated_arr = np.concatenate((color_columns, pos_columns), axis=1)\n",
    "\n",
    "    return duplicated_arr"
   ]
  },
  {
   "cell_type": "code",
   "execution_count": 9,
   "metadata": {},
   "outputs": [],
   "source": [
    "new_features_freq = []\n",
    "for nf in new_features:\n",
    "    new_features_freq.append(set_priority(np.array(nf), 4, 2).tolist())"
   ]
  },
  {
   "cell_type": "markdown",
   "metadata": {
    "id": "b4kDj4dsi34K"
   },
   "source": [
    "## clustering"
   ]
  },
  {
   "cell_type": "markdown",
   "metadata": {
    "id": "2yxNa4MT9EQ_",
    "jp-MarkdownHeadingCollapsed": true
   },
   "source": [
    "### k-means"
   ]
  },
  {
   "cell_type": "code",
   "execution_count": 10,
   "metadata": {
    "id": "g3BrJgCQi34K"
   },
   "outputs": [
    {
     "name": "stderr",
     "output_type": "stream",
     "text": [
      "c:\\Users\\ewint\\AppData\\Local\\Programs\\Python\\Python310\\lib\\site-packages\\sklearn\\cluster\\_kmeans.py:1416: FutureWarning: The default value of `n_init` will change from 10 to 'auto' in 1.4. Set the value of `n_init` explicitly to suppress the warning\n",
      "  super()._check_params_vs_input(X, default_n_init=10)\n",
      "c:\\Users\\ewint\\AppData\\Local\\Programs\\Python\\Python310\\lib\\site-packages\\sklearn\\cluster\\_kmeans.py:1416: FutureWarning: The default value of `n_init` will change from 10 to 'auto' in 1.4. Set the value of `n_init` explicitly to suppress the warning\n",
      "  super()._check_params_vs_input(X, default_n_init=10)\n",
      "c:\\Users\\ewint\\AppData\\Local\\Programs\\Python\\Python310\\lib\\site-packages\\sklearn\\cluster\\_kmeans.py:1416: FutureWarning: The default value of `n_init` will change from 10 to 'auto' in 1.4. Set the value of `n_init` explicitly to suppress the warning\n",
      "  super()._check_params_vs_input(X, default_n_init=10)\n",
      "c:\\Users\\ewint\\AppData\\Local\\Programs\\Python\\Python310\\lib\\site-packages\\sklearn\\cluster\\_kmeans.py:1416: FutureWarning: The default value of `n_init` will change from 10 to 'auto' in 1.4. Set the value of `n_init` explicitly to suppress the warning\n",
      "  super()._check_params_vs_input(X, default_n_init=10)\n",
      "c:\\Users\\ewint\\AppData\\Local\\Programs\\Python\\Python310\\lib\\site-packages\\sklearn\\cluster\\_kmeans.py:1416: FutureWarning: The default value of `n_init` will change from 10 to 'auto' in 1.4. Set the value of `n_init` explicitly to suppress the warning\n",
      "  super()._check_params_vs_input(X, default_n_init=10)\n",
      "c:\\Users\\ewint\\AppData\\Local\\Programs\\Python\\Python310\\lib\\site-packages\\sklearn\\cluster\\_kmeans.py:1416: FutureWarning: The default value of `n_init` will change from 10 to 'auto' in 1.4. Set the value of `n_init` explicitly to suppress the warning\n",
      "  super()._check_params_vs_input(X, default_n_init=10)\n",
      "c:\\Users\\ewint\\AppData\\Local\\Programs\\Python\\Python310\\lib\\site-packages\\sklearn\\cluster\\_kmeans.py:1416: FutureWarning: The default value of `n_init` will change from 10 to 'auto' in 1.4. Set the value of `n_init` explicitly to suppress the warning\n",
      "  super()._check_params_vs_input(X, default_n_init=10)\n",
      "c:\\Users\\ewint\\AppData\\Local\\Programs\\Python\\Python310\\lib\\site-packages\\sklearn\\cluster\\_kmeans.py:1416: FutureWarning: The default value of `n_init` will change from 10 to 'auto' in 1.4. Set the value of `n_init` explicitly to suppress the warning\n",
      "  super()._check_params_vs_input(X, default_n_init=10)\n",
      "c:\\Users\\ewint\\AppData\\Local\\Programs\\Python\\Python310\\lib\\site-packages\\sklearn\\cluster\\_kmeans.py:1416: FutureWarning: The default value of `n_init` will change from 10 to 'auto' in 1.4. Set the value of `n_init` explicitly to suppress the warning\n",
      "  super()._check_params_vs_input(X, default_n_init=10)\n",
      "c:\\Users\\ewint\\AppData\\Local\\Programs\\Python\\Python310\\lib\\site-packages\\sklearn\\cluster\\_kmeans.py:1416: FutureWarning: The default value of `n_init` will change from 10 to 'auto' in 1.4. Set the value of `n_init` explicitly to suppress the warning\n",
      "  super()._check_params_vs_input(X, default_n_init=10)\n"
     ]
    }
   ],
   "source": [
    "k_number = 15\n",
    "kmeans = KMeans(n_clusters=k_number)\n",
    "new_clusters = []\n",
    "for nf in new_features_freq:\n",
    "    clusters = kmeans.fit_predict(nf)\n",
    "    new_clusters.append(clusters)"
   ]
  },
  {
   "cell_type": "code",
   "execution_count": 11,
   "metadata": {},
   "outputs": [],
   "source": [
    "for i, nc in enumerate(new_clusters):\n",
    "    new_clusters[i] = nc.reshape(random_values.shape[1], random_values.shape[2])"
   ]
  },
  {
   "cell_type": "markdown",
   "metadata": {
    "id": "Zi_CypDqi34L"
   },
   "source": [
    "## extracting clusters features for each image sepratedly"
   ]
  },
  {
   "cell_type": "code",
   "execution_count": 12,
   "metadata": {},
   "outputs": [],
   "source": [
    "def find_matching_triads(array1, array2):   \n",
    "\n",
    "    unique_values = np.unique(array1)\n",
    "    result = []\n",
    "\n",
    "    for value in unique_values:\n",
    "        indexes = np.where(array1 == value)[0]\n",
    "        triads = array2[indexes, :].tolist()\n",
    "        result.append(triads)\n",
    "        \n",
    "    return result"
   ]
  },
  {
   "cell_type": "markdown",
   "metadata": {},
   "source": [
    "### mean color for each cluster in each image"
   ]
  },
  {
   "cell_type": "code",
   "execution_count": 13,
   "metadata": {},
   "outputs": [],
   "source": [
    "def calculate_mean(data):\n",
    "\n",
    "    data_array = np.array(data)\n",
    "    mean_values = np.mean(data_array, axis=0)\n",
    "    mean_values = mean_values.astype(int)\n",
    "    mean_values_list = mean_values.tolist()\n",
    "    \n",
    "    return mean_values_list"
   ]
  },
  {
   "cell_type": "code",
   "execution_count": 14,
   "metadata": {},
   "outputs": [],
   "source": [
    "def mean_clusters_each_image(new_cls, random_values):\n",
    "\n",
    "    all_images_mean_values = []\n",
    "    \n",
    "    for i, image_cls in enumerate(new_cls):\n",
    "\n",
    "        one_image_clusters_mean_values = []\n",
    "        reshaped_image_cls = image_cls.reshape(image_cls.shape[0] * image_cls.shape[1])\n",
    "        reshaped_random_value = random_values[i].reshape(random_values.shape[1] * random_values.shape[2], random_values.shape[3])\n",
    "\n",
    "        similar_clusters_pixels = find_matching_triads(reshaped_image_cls, reshaped_random_value)\n",
    "\n",
    "        for smp in similar_clusters_pixels:\n",
    "            one_image_clusters_mean_values.append(calculate_mean(smp))\n",
    "\n",
    "        all_images_mean_values.append(one_image_clusters_mean_values)\n",
    "\n",
    "    return all_images_mean_values"
   ]
  },
  {
   "cell_type": "code",
   "execution_count": 15,
   "metadata": {},
   "outputs": [],
   "source": [
    "mean_each_cluster_each_image = mean_clusters_each_image(new_clusters, random_values)"
   ]
  },
  {
   "cell_type": "markdown",
   "metadata": {},
   "source": [
    "### variance color for each cluster in each image"
   ]
  },
  {
   "cell_type": "code",
   "execution_count": 16,
   "metadata": {},
   "outputs": [],
   "source": [
    "def calculate_var(data):\n",
    "\n",
    "    data_array = np.array(data)\n",
    "    var_values = np.var(data_array, axis=0)\n",
    "    var_values = var_values.astype(int)\n",
    "    var_values_list = var_values.tolist()\n",
    "    \n",
    "    return var_values_list"
   ]
  },
  {
   "cell_type": "code",
   "execution_count": 17,
   "metadata": {},
   "outputs": [],
   "source": [
    "def var_clusters_each_image(new_cls, random_values):\n",
    "\n",
    "    all_images_var_values = []\n",
    "\n",
    "\n",
    "    for i, image_cls in enumerate(new_cls):\n",
    "\n",
    "        one_image_clusters_var_values = []\n",
    "        reshaped_image_cls = image_cls.reshape(image_cls.shape[0] * image_cls.shape[1])\n",
    "        reshaped_random_value = random_values[i].reshape(random_values.shape[1] * random_values.shape[2], random_values.shape[3])\n",
    "\n",
    "        similar_clusters_pixels = find_matching_triads(reshaped_image_cls, reshaped_random_value)\n",
    "\n",
    "        for smp in similar_clusters_pixels:\n",
    "            one_image_clusters_var_values.append(calculate_var(smp))\n",
    "\n",
    "        all_images_var_values.append(one_image_clusters_var_values)\n",
    "\n",
    "    return all_images_var_values"
   ]
  },
  {
   "cell_type": "code",
   "execution_count": 18,
   "metadata": {},
   "outputs": [],
   "source": [
    "var_each_cluster_each_image = var_clusters_each_image(new_clusters, random_values)"
   ]
  },
  {
   "cell_type": "markdown",
   "metadata": {},
   "source": [
    "### size of clusters in each image"
   ]
  },
  {
   "cell_type": "code",
   "execution_count": 19,
   "metadata": {},
   "outputs": [],
   "source": [
    "def calculate_size(image_clusters):\n",
    "\n",
    "    unique_clusters, counts = np.unique(image_clusters, return_counts=True)\n",
    "    each_clusters_size = counts\n",
    "\n",
    "    return each_clusters_size"
   ]
  },
  {
   "cell_type": "code",
   "execution_count": 20,
   "metadata": {},
   "outputs": [],
   "source": [
    "size_each_cluster_each_image = []\n",
    "\n",
    "for image_clusters in new_clusters:\n",
    "    size_each_cluster_each_image.append(calculate_size(image_clusters))"
   ]
  },
  {
   "cell_type": "markdown",
   "metadata": {},
   "source": [
    "### extract features faster and truelly"
   ]
  },
  {
   "cell_type": "code",
   "execution_count": 21,
   "metadata": {},
   "outputs": [],
   "source": [
    "def extract_cluster_features(image_number, image_clusters, arr_new_features, k_number):\n",
    "    clusters_features = []\n",
    "    clusters = [[] for i in range(k_number)]\n",
    "    for index, value in enumerate(image_clusters):\n",
    "        clusters[value].append(arr_new_features[image_number, index])\n",
    "    for cluster in clusters: # clusters contains all pixels which belong to the same cluster.\n",
    "        temp_array = np.array(cluster)\n",
    "        min_value = np.min(temp_array, axis=0)\n",
    "        max_value = np.max(temp_array, axis=0)\n",
    "        mean_value = np.mean(temp_array, axis=0)\n",
    "        x_field = max_value[3] - min_value[3]\n",
    "        y_field = max_value[4] - min_value[4]\n",
    "        shape_field = np.array([x_field / y_field])\n",
    "        combined_results = np.concatenate((min_value[:3], max_value[:3], mean_value[:3], shape_field), axis=None)\n",
    "        clusters_features.append(combined_results)\n",
    "\n",
    "    return np.array(clusters_features)"
   ]
  },
  {
   "cell_type": "code",
   "execution_count": 22,
   "metadata": {},
   "outputs": [],
   "source": [
    "all_images_clusters_features = []\n",
    "arr_new_features = np.array(new_features)\n",
    "reshaped_image_clusters = image_clusters.reshape(image_clusters.shape[0] * image_clusters.shape[1])\n",
    "for image_num, image_clusters in enumerate(new_clusters):\n",
    "    all_images_clusters_features.append(extract_cluster_features(image_num, \n",
    "                                                                 reshaped_image_clusters,\n",
    "                                                                 arr_new_features, k_number))"
   ]
  },
  {
   "cell_type": "code",
   "execution_count": 23,
   "metadata": {},
   "outputs": [
    {
     "data": {
      "text/plain": [
       "[array([[0.        , 0.        , 0.00796813, 0.97765363, 1.        ,\n",
       "         0.93227092, 0.17137519, 0.47989524, 0.39964646, 1.07659574],\n",
       "        [0.        , 0.        , 0.14741036, 1.        , 0.85098039,\n",
       "         1.        , 0.30360943, 0.11084771, 0.50332374, 0.74907749],\n",
       "        [0.        , 0.        , 0.14342629, 0.98882682, 0.61176471,\n",
       "         0.68924303, 0.29668633, 0.08957777, 0.3969892 , 0.45045045],\n",
       "        [0.        , 0.        , 0.        , 0.98882682, 1.        ,\n",
       "         0.98007968, 0.15409808, 0.56292943, 0.45693345, 2.03433476],\n",
       "        [0.        , 0.        , 0.11155378, 1.        , 1.        ,\n",
       "         0.92031873, 0.14083361, 0.47696652, 0.55028485, 1.05761317],\n",
       "        [0.        , 0.        , 0.06772908, 1.        , 1.        ,\n",
       "         0.98007968, 0.18537871, 0.32248122, 0.43271552, 1.49640288],\n",
       "        [0.        , 0.00784314, 0.1752988 , 0.99441341, 0.79607843,\n",
       "         0.99601594, 0.11330863, 0.23379691, 0.41802549, 0.81428571],\n",
       "        [0.        , 0.        , 0.06374502, 1.        , 1.        ,\n",
       "         1.        , 0.16102132, 0.58329584, 0.69126372, 1.17153285],\n",
       "        [0.        , 0.01176471, 0.1752988 , 0.99441341, 1.        ,\n",
       "         0.99601594, 0.0982822 , 0.22992091, 0.38836787, 0.36923077],\n",
       "        [0.        , 0.        , 0.06374502, 0.99441341, 1.        ,\n",
       "         1.        , 0.20712298, 0.32541546, 0.42281154, 1.77375566],\n",
       "        [0.        , 0.        , 0.15139442, 0.99441341, 1.        ,\n",
       "         0.94820717, 0.13381238, 0.31469776, 0.54473787, 1.57391304],\n",
       "        [0.        , 0.        , 0.19920319, 0.99441341, 1.        ,\n",
       "         0.96414343, 0.13557657, 0.58283096, 0.58061949, 0.95486111],\n",
       "        [0.        , 0.01568627, 0.11553785, 0.99441341, 1.        ,\n",
       "         1.        , 0.12950773, 0.68914696, 0.61730748, 1.14678899],\n",
       "        [0.        , 0.        , 0.09960159, 0.99441341, 1.        ,\n",
       "         1.        , 0.21616351, 0.20713046, 0.41198407, 1.0660793 ],\n",
       "        [0.        , 0.        , 0.03187251, 0.98882682, 1.        ,\n",
       "         0.96414343, 0.22667867, 0.24067252, 0.39944809, 0.72563177]]),\n",
       " array([[0.        , 0.        , 0.02745098, 1.        , 0.74901961,\n",
       "         1.        , 0.50025591, 0.21358383, 0.62796417, 1.07659574],\n",
       "        [0.        , 0.        , 0.01960784, 0.79096045, 1.        ,\n",
       "         1.        , 0.30098246, 0.54890876, 0.32376029, 0.74907749],\n",
       "        [0.        , 0.        , 0.00392157, 0.93220339, 1.        ,\n",
       "         1.        , 0.26391055, 0.39840322, 0.49518607, 0.45045045],\n",
       "        [0.        , 0.        , 0.03529412, 1.        , 0.88235294,\n",
       "         1.        , 0.51896149, 0.22782651, 0.66313254, 2.03433476],\n",
       "        [0.        , 0.        , 0.07843137, 1.        , 0.96470588,\n",
       "         1.        , 0.69072985, 0.3631719 , 0.75325832, 1.05761317],\n",
       "        [0.        , 0.        , 0.01568627, 0.97740113, 1.        ,\n",
       "         1.        , 0.29296606, 0.42662713, 0.44528581, 1.49640288],\n",
       "        [0.        , 0.        , 0.07058824, 0.97740113, 0.78823529,\n",
       "         1.        , 0.44830088, 0.18135166, 0.65933158, 0.81428571],\n",
       "        [0.        , 0.        , 0.01176471, 0.79096045, 1.        ,\n",
       "         1.        , 0.45517915, 0.41698682, 0.49503337, 1.17153285],\n",
       "        [0.        , 0.        , 0.0745098 , 1.        , 0.7372549 ,\n",
       "         1.        , 0.51176783, 0.19456063, 0.74040486, 0.36923077],\n",
       "        [0.        , 0.        , 0.00784314, 0.73446328, 1.        ,\n",
       "         1.        , 0.32913771, 0.45496596, 0.23157886, 1.77375566],\n",
       "        [0.        , 0.        , 0.03137255, 0.93220339, 0.69411765,\n",
       "         1.        , 0.63901929, 0.32766594, 0.71425864, 1.57391304],\n",
       "        [0.        , 0.        , 0.03529412, 0.98870056, 0.77647059,\n",
       "         1.        , 0.70067319, 0.35378157, 0.77027867, 0.95486111],\n",
       "        [0.        , 0.        , 0.08235294, 1.        , 1.        ,\n",
       "         1.        , 0.57021694, 0.39581862, 0.62643901, 1.14678899],\n",
       "        [0.        , 0.        , 0.        , 0.6779661 , 1.        ,\n",
       "         1.        , 0.30688988, 0.40477168, 0.22286398, 1.0660793 ],\n",
       "        [0.        , 0.        , 0.02352941, 0.84745763, 1.        ,\n",
       "         1.        , 0.27541752, 0.49788966, 0.31345102, 0.72563177]]),\n",
       " array([[0.09248555, 0.14117647, 0.01976285, 0.34682081, 1.        ,\n",
       "         0.99209486, 0.21053602, 0.73483899, 0.32329302, 1.07659574],\n",
       "        [0.03468208, 0.14509804, 0.02371542, 0.2716763 , 1.        ,\n",
       "         1.        , 0.16878617, 0.87025142, 0.76157088, 0.74907749],\n",
       "        [0.01156069, 0.17647059, 0.02371542, 0.32947977, 1.        ,\n",
       "         0.98814229, 0.21355053, 0.75210823, 0.32828031, 0.45045045],\n",
       "        [0.08092486, 0.12156863, 0.01185771, 0.34682081, 1.        ,\n",
       "         1.        , 0.20556379, 0.78567183, 0.31539706, 2.03433476],\n",
       "        [0.06358382, 0.12941176, 0.03952569, 0.30635838, 1.        ,\n",
       "         1.        , 0.1795871 , 0.82979464, 0.69551449, 1.05761317],\n",
       "        [0.        , 0.09411765, 0.01581028, 1.        , 1.        ,\n",
       "         1.        , 0.20828393, 0.71383099, 0.4142443 , 1.49640288],\n",
       "        [0.0867052 , 0.21176471, 0.03952569, 0.28323699, 1.        ,\n",
       "         1.        , 0.21227314, 0.72566269, 0.41814152, 0.81428571],\n",
       "        [0.        , 0.16078431, 0.06719368, 0.23121387, 1.        ,\n",
       "         1.        , 0.1646351 , 0.89158836, 0.79261917, 1.17153285],\n",
       "        [0.06358382, 0.20784314, 0.0513834 , 0.30635838, 1.        ,\n",
       "         1.        , 0.19934382, 0.76625523, 0.37191644, 0.36923077],\n",
       "        [0.08092486, 0.16862745, 0.02371542, 0.30057803, 1.        ,\n",
       "         1.        , 0.1909366 , 0.72409727, 0.53229628, 1.77375566],\n",
       "        [0.        , 0.        , 0.        , 0.34682081, 1.        ,\n",
       "         1.        , 0.20024104, 0.75580274, 0.4487888 , 1.57391304],\n",
       "        [0.0867052 , 0.24705882, 0.04743083, 0.27745665, 1.        ,\n",
       "         1.        , 0.17526383, 0.86815018, 0.67698504, 0.95486111],\n",
       "        [0.02890173, 0.14117647, 0.04347826, 0.30635838, 1.        ,\n",
       "         1.        , 0.16368056, 0.89746694, 0.85905157, 1.14678899],\n",
       "        [0.        , 0.10588235, 0.01185771, 0.95375723, 1.        ,\n",
       "         0.99604743, 0.19876737, 0.70962038, 0.37104657, 1.0660793 ],\n",
       "        [0.        , 0.01568627, 0.00395257, 0.69364162, 1.        ,\n",
       "         1.        , 0.19913556, 0.73346997, 0.37435302, 0.72563177]]),\n",
       " array([[0.        , 0.        , 0.07874016, 0.96648045, 0.80784314,\n",
       "         1.        , 0.29928165, 0.25469538, 0.32886208, 1.07659574],\n",
       "        [0.        , 0.        , 0.11417323, 0.99441341, 1.        ,\n",
       "         1.        , 0.33233255, 0.30909641, 0.54086767, 0.74907749],\n",
       "        [0.09497207, 0.25490196, 0.12992126, 0.25139665, 0.55294118,\n",
       "         0.24409449, 0.15995833, 0.36767348, 0.19141971, 0.45045045],\n",
       "        [0.        , 0.        , 0.0984252 , 0.98324022, 0.70588235,\n",
       "         1.        , 0.24840371, 0.30791893, 0.29269237, 2.03433476],\n",
       "        [0.        , 0.        , 0.03937008, 0.98324022, 0.8627451 ,\n",
       "         1.        , 0.38915037, 0.234536  , 0.38617928, 1.05761317],\n",
       "        [0.        , 0.        , 0.09448819, 0.99441341, 0.64705882,\n",
       "         0.97637795, 0.2514406 , 0.30007313, 0.20850655, 1.49640288],\n",
       "        [0.08938547, 0.10980392, 0.10629921, 0.53072626, 0.70588235,\n",
       "         0.32283465, 0.23667505, 0.24423511, 0.14895374, 0.81428571],\n",
       "        [0.        , 0.        , 0.0511811 , 1.        , 1.        ,\n",
       "         1.        , 0.40207944, 0.28589425, 0.65051241, 1.17153285],\n",
       "        [0.08379888, 0.0627451 , 0.10629921, 0.59776536, 0.79215686,\n",
       "         0.61811024, 0.22595612, 0.31311863, 0.16050279, 0.36923077],\n",
       "        [0.        , 0.        , 0.12598425, 0.98882682, 0.61568627,\n",
       "         1.        , 0.36609253, 0.20834759, 0.50594283, 1.77375566],\n",
       "        [0.        , 0.        , 0.07874016, 0.67039106, 0.7372549 ,\n",
       "         0.98031496, 0.31275802, 0.25357151, 0.20147933, 1.57391304],\n",
       "        [0.        , 0.        , 0.        , 0.98882682, 1.        ,\n",
       "         1.        , 0.42863587, 0.20976302, 0.49320693, 0.95486111],\n",
       "        [0.        , 0.        , 0.04724409, 0.99441341, 1.        ,\n",
       "         1.        , 0.44712557, 0.36475587, 0.48290716, 1.14678899],\n",
       "        [0.        , 0.        , 0.13779528, 0.98882682, 0.74901961,\n",
       "         1.        , 0.20852314, 0.3239569 , 0.28033445, 1.0660793 ],\n",
       "        [0.        , 0.        , 0.10629921, 0.67039106, 0.5372549 ,\n",
       "         1.        , 0.21426122, 0.30924086, 0.2016167 , 0.72563177]]),\n",
       " array([[0.        , 0.        , 0.15725806, 0.96648045, 1.        ,\n",
       "         0.93145161, 0.19889967, 0.1059334 , 0.49111191, 1.07659574],\n",
       "        [0.        , 0.00784314, 0.12903226, 1.        , 1.        ,\n",
       "         1.        , 0.14404921, 0.63090508, 0.76983711, 0.74907749],\n",
       "        [0.        , 0.00784314, 0.04435484, 1.        , 0.9254902 ,\n",
       "         0.95967742, 0.14398041, 0.25857745, 0.56636815, 0.45045045],\n",
       "        [0.        , 0.        , 0.15725806, 0.99441341, 0.54509804,\n",
       "         0.9516129 , 0.15300203, 0.1238264 , 0.53525553, 2.03433476],\n",
       "        [0.        , 0.        , 0.02419355, 0.99441341, 1.        ,\n",
       "         0.99596774, 0.12568616, 0.57811614, 0.71258344, 1.05761317],\n",
       "        [0.        , 0.00784314, 0.31451613, 0.99441341, 0.83529412,\n",
       "         0.97177419, 0.09960586, 0.13546551, 0.64406276, 1.49640288],\n",
       "        [0.        , 0.        , 0.00403226, 0.98882682, 1.        ,\n",
       "         0.97177419, 0.11913328, 0.19219729, 0.58693789, 0.81428571],\n",
       "        [0.        , 0.        , 0.16532258, 0.99441341, 1.        ,\n",
       "         0.99596774, 0.15492346, 0.63031413, 0.6972257 , 1.17153285],\n",
       "        [0.        , 0.        , 0.02419355, 0.99441341, 1.        ,\n",
       "         0.98387097, 0.1323086 , 0.26009771, 0.56083844, 0.36923077],\n",
       "        [0.        , 0.        , 0.15322581, 1.        , 0.78823529,\n",
       "         0.92741935, 0.12169031, 0.15973048, 0.59799756, 1.77375566],\n",
       "        [0.        , 0.        , 0.01612903, 0.98882682, 1.        ,\n",
       "         0.98790323, 0.11256869, 0.17257374, 0.61908941, 1.57391304],\n",
       "        [0.        , 0.        , 0.18548387, 0.99441341, 1.        ,\n",
       "         1.        , 0.13974109, 0.64768019, 0.65826747, 0.95486111],\n",
       "        [0.        , 0.03137255, 0.21774194, 0.99441341, 1.        ,\n",
       "         1.        , 0.1308315 , 0.77869312, 0.79292473, 1.14678899],\n",
       "        [0.        , 0.        , 0.        , 1.        , 1.        ,\n",
       "         0.99193548, 0.13090435, 0.22171523, 0.57453878, 1.0660793 ],\n",
       "        [0.        , 0.00392157, 0.24596774, 0.99441341, 0.83137255,\n",
       "         0.97580645, 0.0965378 , 0.13110334, 0.65837316, 0.72563177]]),\n",
       " array([[0.        , 0.        , 0.12658228, 0.98324022, 0.4627451 ,\n",
       "         1.        , 0.62848894, 0.29895769, 0.71364782, 1.07659574],\n",
       "        [0.        , 0.        , 0.53164557, 0.99441341, 0.59215686,\n",
       "         1.        , 0.69479832, 0.2850126 , 0.82440198, 0.74907749],\n",
       "        [0.62011173, 0.41176471, 0.81012658, 0.6424581 , 0.56862745,\n",
       "         0.89029536, 0.63231472, 0.52003254, 0.84000866, 0.45045045],\n",
       "        [0.        , 0.        , 0.12658228, 0.98324022, 0.55294118,\n",
       "         1.        , 0.63992577, 0.31112241, 0.76860312, 2.03433476],\n",
       "        [0.        , 0.00392157, 0.05063291, 1.        , 1.        ,\n",
       "         1.        , 0.63451501, 0.25417865, 0.7555832 , 1.05761317],\n",
       "        [0.61452514, 0.07843137, 0.63291139, 0.8547486 , 0.55686275,\n",
       "         1.        , 0.63735822, 0.38635868, 0.8845158 , 1.49640288],\n",
       "        [0.        , 0.        , 0.01265823, 0.97765363, 0.51764706,\n",
       "         1.        , 0.64581006, 0.28433663, 0.52847449, 0.81428571],\n",
       "        [0.        , 0.        , 0.1350211 , 1.        , 1.        ,\n",
       "         1.        , 0.55553854, 0.28567506, 0.81092187, 1.17153285],\n",
       "        [0.        , 0.        , 0.        , 0.97206704, 0.55686275,\n",
       "         1.        , 0.63272994, 0.2324053 , 0.40920774, 0.36923077],\n",
       "        [0.        , 0.        , 0.61181435, 0.97765363, 0.57254902,\n",
       "         1.        , 0.64168   , 0.36098387, 0.88235911, 1.77375566],\n",
       "        [0.11173184, 0.00784314, 0.02109705, 0.94972067, 0.47058824,\n",
       "         1.        , 0.65738606, 0.30526874, 0.86849482, 1.57391304],\n",
       "        [0.        , 0.        , 0.02109705, 1.        , 1.        ,\n",
       "         1.        , 0.59108805, 0.20271528, 0.76067915, 0.95486111],\n",
       "        [0.        , 0.00392157, 0.2742616 , 1.        , 1.        ,\n",
       "         1.        , 0.63616783, 0.28932832, 0.7959641 , 1.14678899],\n",
       "        [0.62011173, 0.04313725, 0.75105485, 0.79888268, 0.55686275,\n",
       "         1.        , 0.63217903, 0.47393972, 0.86012239, 1.0660793 ],\n",
       "        [0.62011173, 0.18039216, 0.75105485, 0.67039106, 0.56470588,\n",
       "         1.        , 0.63429707, 0.4627987 , 0.85753237, 0.72563177]]),\n",
       " array([[0.        , 0.        , 0.1124498 , 0.97765363, 1.        ,\n",
       "         0.97991968, 0.23179453, 0.70795362, 0.42167973, 1.07659574],\n",
       "        [0.        , 0.        , 0.19678715, 0.99441341, 0.91764706,\n",
       "         1.        , 0.50115106, 0.26973185, 0.52997415, 0.74907749],\n",
       "        [0.        , 0.        , 0.26907631, 0.99441341, 0.7372549 ,\n",
       "         1.        , 0.58415231, 0.17514292, 0.56853877, 0.45045045],\n",
       "        [0.        , 0.        , 0.08433735, 0.98324022, 1.        ,\n",
       "         0.99598394, 0.2695366 , 0.66351471, 0.4298638 , 2.03433476],\n",
       "        [0.        , 0.        , 0.06024096, 0.99441341, 1.        ,\n",
       "         1.        , 0.41620194, 0.40230719, 0.49036187, 1.05761317],\n",
       "        [0.        , 0.        , 0.13253012, 0.97765363, 1.        ,\n",
       "         1.        , 0.4163194 , 0.28090711, 0.43255813, 1.49640288],\n",
       "        [0.        , 0.        , 0.05220884, 0.94972067, 1.        ,\n",
       "         0.97991968, 0.24636168, 0.59199695, 0.38492297, 0.81428571],\n",
       "        [0.        , 0.        , 0.10441767, 1.        , 1.        ,\n",
       "         1.        , 0.41683147, 0.43117903, 0.47856825, 1.17153285],\n",
       "        [0.        , 0.        , 0.        , 0.96648045, 1.        ,\n",
       "         0.99196787, 0.25928904, 0.64341023, 0.35277512, 0.36923077],\n",
       "        [0.        , 0.        , 0.18072289, 0.97206704, 1.        ,\n",
       "         1.        , 0.42492985, 0.39154388, 0.57648618, 1.77375566],\n",
       "        [0.        , 0.        , 0.09638554, 0.98882682, 1.        ,\n",
       "         0.92369478, 0.43366207, 0.35316704, 0.43114939, 1.57391304],\n",
       "        [0.        , 0.        , 0.04417671, 1.        , 1.        ,\n",
       "         1.        , 0.43682399, 0.51870145, 0.40617353, 0.95486111],\n",
       "        [0.        , 0.        , 0.14056225, 0.99441341, 1.        ,\n",
       "         1.        , 0.58466944, 0.33097849, 0.52092732, 1.14678899],\n",
       "        [0.        , 0.        , 0.29718876, 0.98882682, 0.94117647,\n",
       "         1.        , 0.43343773, 0.28564602, 0.59510706, 1.0660793 ],\n",
       "        [0.        , 0.        , 0.18875502, 0.98882682, 0.85098039,\n",
       "         0.97590361, 0.48926112, 0.24205875, 0.48108519, 0.72563177]]),\n",
       " array([[0.        , 0.        , 0.        , 1.        , 1.        ,\n",
       "         0.90196078, 0.44531294, 0.4324558 , 0.36535816, 1.07659574],\n",
       "        [0.06145251, 0.15294118, 0.09803922, 0.41340782, 1.        ,\n",
       "         0.99607843, 0.16888838, 0.80194204, 0.60843036, 0.74907749],\n",
       "        [0.        , 0.10196078, 0.15686275, 1.        , 0.95294118,\n",
       "         0.68627451, 0.16873436, 0.34224087, 0.46658769, 0.45045045],\n",
       "        [0.        , 0.        , 0.01176471, 1.        , 1.        ,\n",
       "         0.85882353, 0.31790404, 0.38903467, 0.34792049, 2.03433476],\n",
       "        [0.        , 0.        , 0.00392157, 1.        , 1.        ,\n",
       "         1.        , 0.21486522, 0.67549156, 0.60330718, 1.05761317],\n",
       "        [0.        , 0.        , 0.00392157, 1.        , 1.        ,\n",
       "         0.96470588, 0.29684143, 0.45822973, 0.35723106, 1.49640288],\n",
       "        [0.        , 0.        , 0.01960784, 1.        , 1.        ,\n",
       "         0.97647059, 0.31939181, 0.47176605, 0.33403275, 0.81428571],\n",
       "        [0.        , 0.        , 0.02352941, 1.        , 1.        ,\n",
       "         1.        , 0.17457929, 0.73723275, 0.66451008, 1.17153285],\n",
       "        [0.        , 0.        , 0.03137255, 0.97765363, 1.        ,\n",
       "         0.98823529, 0.41600012, 0.29548998, 0.48974784, 0.36923077],\n",
       "        [0.        , 0.        , 0.01568627, 0.99441341, 1.        ,\n",
       "         0.96078431, 0.25490547, 0.39429236, 0.36802242, 1.77375566],\n",
       "        [0.        , 0.        , 0.01568627, 1.        , 1.        ,\n",
       "         0.99215686, 0.15621399, 0.56917369, 0.31069477, 1.57391304],\n",
       "        [0.        , 0.        , 0.00392157, 0.98324022, 1.        ,\n",
       "         1.        , 0.21457022, 0.61993731, 0.63915842, 0.95486111],\n",
       "        [0.00558659, 0.0627451 , 0.03529412, 0.98882682, 1.        ,\n",
       "         1.        , 0.1460754 , 0.83659944, 0.74736213, 1.14678899],\n",
       "        [0.        , 0.05490196, 0.04313725, 0.97765363, 1.        ,\n",
       "         0.86666667, 0.21156077, 0.41998752, 0.38975885, 1.0660793 ],\n",
       "        [0.        , 0.        , 0.        , 0.99441341, 1.        ,\n",
       "         0.95686275, 0.25985494, 0.55000048, 0.36679852, 0.72563177]]),\n",
       " array([[0.        , 0.        , 0.00784314, 0.98882682, 1.        ,\n",
       "         1.        , 0.24597843, 0.76765485, 0.21595452, 1.07659574],\n",
       "        [0.        , 0.        , 0.        , 1.        , 1.        ,\n",
       "         1.        , 0.220119  , 0.36963576, 0.59541943, 0.74907749],\n",
       "        [0.        , 0.        , 0.        , 0.96648045, 1.        ,\n",
       "         0.62745098, 0.21828235, 0.87198062, 0.23279272, 0.45045045],\n",
       "        [0.        , 0.        , 0.        , 0.97206704, 1.        ,\n",
       "         1.        , 0.25040792, 0.80054704, 0.20269674, 2.03433476],\n",
       "        [0.        , 0.        , 0.        , 0.98882682, 1.        ,\n",
       "         1.        , 0.2498769 , 0.40633966, 0.52295804, 1.05761317],\n",
       "        [0.        , 0.        , 0.00784314, 0.98882682, 1.        ,\n",
       "         0.65098039, 0.23494778, 0.87455818, 0.17732567, 1.49640288],\n",
       "        [0.        , 0.        , 0.        , 0.97206704, 1.        ,\n",
       "         0.94509804, 0.23504707, 0.76865665, 0.17426319, 0.81428571],\n",
       "        [0.        , 0.        , 0.        , 0.99441341, 1.        ,\n",
       "         1.        , 0.18733843, 0.45641388, 0.70000788, 1.17153285],\n",
       "        [0.        , 0.        , 0.        , 0.98324022, 1.        ,\n",
       "         1.        , 0.26248369, 0.72183021, 0.27135765, 0.36923077],\n",
       "        [0.        , 0.        , 0.        , 0.98882682, 1.        ,\n",
       "         1.        , 0.24843884, 0.75175934, 0.31285809, 1.77375566],\n",
       "        [0.        , 0.        , 0.        , 0.97206704, 1.        ,\n",
       "         1.        , 0.24459345, 0.81597708, 0.23810189, 1.57391304],\n",
       "        [0.        , 0.        , 0.00784314, 0.98882682, 1.        ,\n",
       "         1.        , 0.25089393, 0.1244042 , 0.74542378, 0.95486111],\n",
       "        [0.        , 0.        , 0.        , 0.98882682, 1.        ,\n",
       "         1.        , 0.20057052, 0.38249574, 0.66587174, 1.14678899],\n",
       "        [0.        , 0.        , 0.00392157, 0.98324022, 1.        ,\n",
       "         0.85098039, 0.23917598, 0.84976492, 0.24750893, 1.0660793 ],\n",
       "        [0.        , 0.        , 0.        , 0.99441341, 1.        ,\n",
       "         0.71764706, 0.22355437, 0.86717445, 0.1778262 , 0.72563177]]),\n",
       " array([[0.14285714, 0.49206349, 0.05128205, 0.64935065, 1.        ,\n",
       "         0.47008547, 0.41381795, 0.72655447, 0.21364609, 1.07659574],\n",
       "        [0.03896104, 0.58333333, 0.45726496, 0.24675325, 1.        ,\n",
       "         0.99145299, 0.12701558, 0.96314113, 0.84634808, 0.74907749],\n",
       "        [0.03896104, 0.01984127, 0.64957265, 0.46753247, 0.49206349,\n",
       "         1.        , 0.20845094, 0.18365116, 0.94785767, 0.45045045],\n",
       "        [0.23376623, 0.13888889, 0.08547009, 1.        , 0.61111111,\n",
       "         0.6025641 , 0.53577685, 0.4425106 , 0.30527633, 2.03433476],\n",
       "        [0.07792208, 0.55952381, 0.42735043, 0.27272727, 1.        ,\n",
       "         0.87179487, 0.15848877, 0.96331257, 0.70353027, 1.05761317],\n",
       "        [0.15584416, 0.39285714, 0.38461538, 0.48051948, 0.90079365,\n",
       "         0.94871795, 0.34175673, 0.59430346, 0.68130392, 1.49640288],\n",
       "        [0.16883117, 0.23015873, 0.02564103, 0.90909091, 0.71428571,\n",
       "         0.47008547, 0.53759986, 0.47416998, 0.22769945, 0.81428571],\n",
       "        [0.        , 0.63888889, 0.44871795, 0.24675325, 1.        ,\n",
       "         0.88034188, 0.13110526, 0.96940041, 0.73931723, 1.17153285],\n",
       "        [0.07792208, 0.59920635, 0.        , 0.71428571, 1.        ,\n",
       "         0.41452991, 0.40338968, 0.86960229, 0.15576756, 0.36923077],\n",
       "        [0.09090909, 0.3015873 , 0.16239316, 0.63636364, 1.        ,\n",
       "         0.79487179, 0.30208464, 0.72681116, 0.44589609, 1.77375566],\n",
       "        [0.07792208, 0.42857143, 0.16239316, 0.49350649, 1.        ,\n",
       "         0.65384615, 0.3140366 , 0.77010023, 0.38043907, 1.57391304],\n",
       "        [0.        , 0.50396825, 0.18376068, 0.2987013 , 1.        ,\n",
       "         0.79487179, 0.16138636, 0.93702099, 0.58234053, 0.95486111],\n",
       "        [0.01298701, 0.66269841, 0.54273504, 0.25974026, 1.        ,\n",
       "         0.99145299, 0.12555706, 0.97600304, 0.82911124, 1.14678899],\n",
       "        [0.11688312, 0.07539683, 0.36752137, 0.67532468, 0.65873016,\n",
       "         0.99145299, 0.33025947, 0.33496224, 0.85404498, 1.0660793 ],\n",
       "        [0.11688312, 0.        , 0.70940171, 0.81818182, 0.69444444,\n",
       "         1.        , 0.31489465, 0.39316999, 0.90712717, 0.72563177]])]"
      ]
     },
     "execution_count": 23,
     "metadata": {},
     "output_type": "execute_result"
    }
   ],
   "source": [
    "all_images_clusters_features"
   ]
  },
  {
   "cell_type": "markdown",
   "metadata": {},
   "source": [
    "## display clustering"
   ]
  },
  {
   "cell_type": "code",
   "execution_count": 24,
   "metadata": {},
   "outputs": [],
   "source": [
    "def display_clustering(image_clusters, each_cluster_color, image_index):\n",
    "    # Create an empty array to hold the HSV values for each pixel\n",
    "    rgb_image = np.zeros((image_clusters.shape[0], image_clusters.shape[1], 3), dtype=np.uint8)\n",
    "\n",
    "    # Assign the corresponding HSV values to each pixel\n",
    "    for i in range(image_clusters.shape[0]):\n",
    "        for j in range(image_clusters.shape[1]):\n",
    "            value = image_clusters[i, j] \n",
    "            hsv = each_cluster_color[value]\n",
    "            # rgb = colorsys.hsv_to_rgb(hsv[0] / 360, hsv[1] / 100, hsv[2] / 100)\n",
    "            # rgb_image[i, j] = np.round(np.array(rgb) * 255).astype(int)\n",
    "            rgb_image[i, j] = hsv\n",
    "\n",
    "    # Display the image with corresponding RGB values using cv2.imshow\n",
    "    cv2.imshow('org', random_values[image_index])\n",
    "    cv2.imshow('Image with Corresponding RGB Values', cv2.cvtColor(rgb_image, cv2.COLOR_RGB2BGR))\n",
    "\n",
    "    cv2.waitKey(0)\n",
    "    cv2.destroyAllWindows()"
   ]
  },
  {
   "cell_type": "code",
   "execution_count": 25,
   "metadata": {},
   "outputs": [],
   "source": [
    "each_cluster_color = [\n",
    "    [255, 0, 0],    # Red\n",
    "    [0, 255, 0],    # Green\n",
    "    [0, 0, 255],    # Blue\n",
    "    [255, 255, 0],  # Yellow\n",
    "    [255, 0, 255],  # Magenta\n",
    "    [0, 255, 255],  # Cyan\n",
    "    [128, 0, 0],    # Maroon\n",
    "    [0, 128, 0],    # Green (Dark)\n",
    "    [0, 0, 128],    # Navy\n",
    "    [128, 128, 128], # Gray\n",
    "    [255, 128, 0],  # Orange\n",
    "    [128, 0, 128],  # Purple\n",
    "    [0, 128, 128],  # Teal\n",
    "    [128, 128, 0],  # Olive\n",
    "    [192, 192, 192]  # Silver\n",
    "]"
   ]
  },
  {
   "cell_type": "code",
   "execution_count": 26,
   "metadata": {},
   "outputs": [],
   "source": [
    "for i, img_clusters in enumerate(new_clusters):\n",
    "    display_clustering(img_clusters, each_cluster_color, i)"
   ]
  },
  {
   "cell_type": "markdown",
   "metadata": {},
   "source": [
    "# Part 2"
   ]
  },
  {
   "cell_type": "markdown",
   "metadata": {
    "id": "VFn0nBVDi34f"
   },
   "source": [
    "## create clusters feature vectors "
   ]
  },
  {
   "cell_type": "markdown",
   "metadata": {
    "id": "EZnhtPpgi34g"
   },
   "source": [
    "## clustering clusters"
   ]
  },
  {
   "cell_type": "code",
   "execution_count": 27,
   "metadata": {
    "id": "UJlojCZci34h"
   },
   "outputs": [
    {
     "ename": "NameError",
     "evalue": "name 'clusters_features' is not defined",
     "output_type": "error",
     "traceback": [
      "\u001b[1;31m---------------------------------------------------------------------------\u001b[0m",
      "\u001b[1;31mNameError\u001b[0m                                 Traceback (most recent call last)",
      "Cell \u001b[1;32mIn[27], line 2\u001b[0m\n\u001b[0;32m      1\u001b[0m kmeans_2 \u001b[38;5;241m=\u001b[39m KMeans(n_clusters\u001b[38;5;241m=\u001b[39m\u001b[38;5;241m3\u001b[39m)\n\u001b[1;32m----> 2\u001b[0m clusters_features_flat \u001b[38;5;241m=\u001b[39m [np\u001b[38;5;241m.\u001b[39mconcatenate([np\u001b[38;5;241m.\u001b[39marray(item[:\u001b[38;5;241m-\u001b[39m\u001b[38;5;241m1\u001b[39m]), item[\u001b[38;5;241m-\u001b[39m\u001b[38;5;241m1\u001b[39m]]) \u001b[38;5;28;01mfor\u001b[39;00m item \u001b[38;5;129;01min\u001b[39;00m \u001b[43mclusters_features\u001b[49m]\n\u001b[0;32m      3\u001b[0m clusters_2 \u001b[38;5;241m=\u001b[39m kmeans\u001b[38;5;241m.\u001b[39mfit_predict(clusters_features_flat)\n\u001b[0;32m      4\u001b[0m \u001b[38;5;66;03m# clusters_2 = kmeans.fit_predict(clusters_features)\u001b[39;00m\n",
      "\u001b[1;31mNameError\u001b[0m: name 'clusters_features' is not defined"
     ]
    }
   ],
   "source": [
    "kmeans_2 = KMeans(n_clusters=3)\n",
    "clusters_features_flat = [np.concatenate([np.array(item[:-1]), item[-1]]) for item in clusters_features]\n",
    "clusters_2 = kmeans.fit_predict(clusters_features_flat)\n",
    "# clusters_2 = kmeans.fit_predict(clusters_features)\n",
    "clusters_2"
   ]
  },
  {
   "cell_type": "markdown",
   "metadata": {
    "id": "o6onYuxUi34h"
   },
   "source": [
    "## Diaplay clustered cluster"
   ]
  },
  {
   "cell_type": "code",
   "execution_count": null,
   "metadata": {},
   "outputs": [],
   "source": [
    "import matplotlib.pyplot as plt\n",
    "from sklearn.decomposition import PCA\n",
    "pca = PCA(2)\n",
    "data_transformed = pca.fit_transform(clusters_features_flat)\n",
    "\n",
    "plt.scatter(data_transformed[:, 0], data_transformed[:, 1], c=clusters_2)\n",
    "plt.show()\n"
   ]
  }
 ],
 "metadata": {
  "accelerator": "GPU",
  "colab": {
   "collapsed_sections": [
    "3mVvdAtI9ONL",
    "lBEBJMkk9Tsz",
    "UcQ9WDY59Zlb",
    "06xiqibEqHid",
    "aWfpqHU1qPh4"
   ],
   "gpuType": "T4",
   "provenance": []
  },
  "kernelspec": {
   "display_name": "Python 3 (ipykernel)",
   "language": "python",
   "name": "python3"
  },
  "language_info": {
   "codemirror_mode": {
    "name": "ipython",
    "version": 3
   },
   "file_extension": ".py",
   "mimetype": "text/x-python",
   "name": "python",
   "nbconvert_exporter": "python",
   "pygments_lexer": "ipython3",
   "version": "3.10.5"
  }
 },
 "nbformat": 4,
 "nbformat_minor": 4
}
